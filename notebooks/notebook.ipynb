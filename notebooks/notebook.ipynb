{
 "cells": [
  {
   "cell_type": "code",
   "execution_count": 6,
   "metadata": {},
   "outputs": [
    {
     "data": {
      "text/plain": [
       "<module 'prepare_nb' from '/home/ezetap/Documents/personal/works/python_features/notebooks/prepare_nb.py'>"
      ]
     },
     "execution_count": 6,
     "metadata": {},
     "output_type": "execute_result"
    }
   ],
   "source": [
    "import importlib\n",
    "importlib.import_module('prepare_nb')"
   ]
  },
  {
   "cell_type": "code",
   "execution_count": 5,
   "metadata": {},
   "outputs": [
    {
     "data": {
      "text/plain": [
       "'3.12.0rc1+'"
      ]
     },
     "execution_count": 5,
     "metadata": {},
     "output_type": "execute_result"
    }
   ],
   "source": [
    "from lib.utils import find_python_version\n",
    "find_python_version(subversion=True)"
   ]
  },
  {
   "cell_type": "markdown",
   "metadata": {},
   "source": [
    "# New Features"
   ]
  },
  {
   "cell_type": "markdown",
   "metadata": {},
   "source": [
    "## 3.8"
   ]
  },
  {
   "cell_type": "code",
   "execution_count": 4,
   "metadata": {},
   "outputs": [
    {
     "name": "stdout",
     "output_type": "stream",
     "text": [
      "The value of b is 20 and is greater than 10.\n"
     ]
    }
   ],
   "source": [
    "a = 20\n",
    "if (b := a) > 10:\n",
    "    print(f\"The value of b is {b} and is greater than 10.\")"
   ]
  },
  {
   "cell_type": "code",
   "execution_count": 5,
   "metadata": {},
   "outputs": [
    {
     "name": "stdout",
     "output_type": "stream",
     "text": [
      "a + b = 15\n",
      "15\n",
      "The value of c: 15\n"
     ]
    }
   ],
   "source": [
    "a = 5\n",
    "b = 10\n",
    " \n",
    "# Using = at the end of\n",
    "# f-strings\n",
    "print(f'{a + b = }')\n",
    " \n",
    "# Using assignment operators\n",
    "# inside f-strings\n",
    "print(f'{(c := a + b)}')\n",
    " \n",
    "print(\"The value of c:\", c)"
   ]
  },
  {
   "cell_type": "code",
   "execution_count": 6,
   "metadata": {},
   "outputs": [
    {
     "name": "stdout",
     "output_type": "stream",
     "text": [
      "('CHARLES', 'David', 'John', 'Sam')\n"
     ]
    }
   ],
   "source": [
    "def parse(family):\n",
    "  lastname, *members = family.split()\n",
    "  return lastname.upper(), *members\n",
    " \n",
    "print(parse('Charles David John Sam'))"
   ]
  },
  {
   "cell_type": "markdown",
   "metadata": {},
   "source": [
    "## 3.9"
   ]
  },
  {
   "cell_type": "code",
   "execution_count": 7,
   "metadata": {},
   "outputs": [
    {
     "data": {
      "text/plain": [
       "datetime.datetime(2023, 8, 11, 16, 50, 38, 476880, tzinfo=datetime.timezone.utc)"
      ]
     },
     "execution_count": 7,
     "metadata": {},
     "output_type": "execute_result"
    }
   ],
   "source": [
    "# You can get a UTC time stamp from the datetime library like this:\n",
    "from datetime import datetime, timezone\n",
    "datetime.now(tz=timezone.utc)"
   ]
  },
  {
   "cell_type": "code",
   "execution_count": 10,
   "metadata": {},
   "outputs": [
    {
     "data": {
      "text/plain": [
       "{'collections': 'Container datatypes',\n",
       " 'math': 'Mathematical functions',\n",
       " 'zoneinfo': 'IANA time zone support'}"
      ]
     },
     "execution_count": 10,
     "metadata": {},
     "output_type": "execute_result"
    }
   ],
   "source": [
    "# updating dictionary in place\n",
    "libraries = {\n",
    "    \"collections\": \"Container datatypes\",\n",
    "    \"math\": \"Mathematical functions\",\n",
    "}\n",
    "libraries |= {\"zoneinfo\": \"IANA time zone support\"}\n",
    "libraries"
   ]
  },
  {
   "cell_type": "code",
   "execution_count": 12,
   "metadata": {},
   "outputs": [
    {
     "data": {
      "text/plain": [
       "{2016: 'Portland', 2018: 'Edinburgh', 2017: 'Rimini', 2019: 'Basel'}"
      ]
     },
     "execution_count": 12,
     "metadata": {},
     "output_type": "execute_result"
    }
   ],
   "source": [
    "# merging dictionary\n",
    "pycon = {2016: \"Portland\", 2018: \"Cleveland\"}\n",
    "europython = {2017: \"Rimini\", 2018: \"Edinburgh\", 2019: \"Basel\"}\n",
    "pycon | europython"
   ]
  },
  {
   "cell_type": "code",
   "execution_count": 15,
   "metadata": {},
   "outputs": [
    {
     "data": {
      "text/plain": [
       "['santo', 'sajan']"
      ]
     },
     "execution_count": 15,
     "metadata": {},
     "output_type": "execute_result"
    }
   ],
   "source": [
    "# type hinting like this\n",
    "countries : list[str] = [\"santo\", \"sajan\"]\n",
    "countries"
   ]
  },
  {
   "cell_type": "code",
   "execution_count": 18,
   "metadata": {},
   "outputs": [
    {
     "data": {
      "text/plain": [
       "('TestCase', 'BaseTest')"
      ]
     },
     "execution_count": 18,
     "metadata": {},
     "output_type": "execute_result"
    }
   ],
   "source": [
    "# string removeprefix, removesuffix\n",
    "'BaseTestCase'.removeprefix('Base'), 'BaseTestCase'.removesuffix('Case')"
   ]
  },
  {
   "cell_type": "markdown",
   "metadata": {},
   "source": [
    "## 3.10 - Huge changes"
   ]
  },
  {
   "cell_type": "code",
   "execution_count": 19,
   "metadata": {},
   "outputs": [
    {
     "name": "stdout",
     "output_type": "stream",
     "text": [
      "Malayalam is the subject found\n"
     ]
    }
   ],
   "source": [
    "# structuring pattern matching\n",
    "subject = \"Malayalam\"\n",
    "\n",
    "match subject:\n",
    "   case \"Malayalam\":\n",
    "       print(\"Malayalam is the subject found\")\n",
    "   case \"English\":\n",
    "       print(\"English is the selected language\")\n",
    "   case _:\n",
    "       print(\"Unknown Subject\")"
   ]
  },
  {
   "cell_type": "code",
   "execution_count": 24,
   "metadata": {},
   "outputs": [
    {
     "data": {
      "text/plain": [
       "15.6"
      ]
     },
     "execution_count": 24,
     "metadata": {},
     "output_type": "execute_result"
    }
   ],
   "source": [
    "# Unvion type operator for type hinting\n",
    "# if you wanted to accept two types, then you would need to use the union keyword.\n",
    "def func(num: int | float) -> int | float:\n",
    "   return num + 5\n",
    "\n",
    "func(10.6)"
   ]
  },
  {
   "cell_type": "code",
   "execution_count": 25,
   "metadata": {},
   "outputs": [],
   "source": [
    "# Asynchronous Iteration\n",
    "# In Python 3.10, there are two new asynchronous built-in functions, aiter() and anext(), to make your code even more readable"
   ]
  },
  {
   "cell_type": "markdown",
   "metadata": {},
   "source": [
    "## 3.11"
   ]
  },
  {
   "cell_type": "code",
   "execution_count": 26,
   "metadata": {},
   "outputs": [],
   "source": [
    "# speed improvement huge"
   ]
  },
  {
   "cell_type": "code",
   "execution_count": 35,
   "metadata": {},
   "outputs": [
    {
     "ename": "ValueError",
     "evalue": "math domain error",
     "output_type": "error",
     "traceback": [
      "\u001b[0;31m---------------------------------------------------------------------------\u001b[0m",
      "\u001b[0;31mValueError\u001b[0m                                Traceback (most recent call last)",
      "Cell \u001b[0;32mIn[35], line 5\u001b[0m\n\u001b[1;32m      2\u001b[0m \u001b[39mimport\u001b[39;00m \u001b[39mmath\u001b[39;00m\n\u001b[1;32m      4\u001b[0m \u001b[39mtry\u001b[39;00m:\n\u001b[0;32m----> 5\u001b[0m   math\u001b[39m.\u001b[39;49msqrt(\u001b[39m-\u001b[39;49m\u001b[39m1\u001b[39;49m)\n\u001b[1;32m      6\u001b[0m \u001b[39mexcept\u001b[39;00m \u001b[39mValueError\u001b[39;00m \u001b[39mas\u001b[39;00m e:\n\u001b[1;32m      7\u001b[0m   e\u001b[39m.\u001b[39madd_note(\u001b[39m\"\u001b[39m\u001b[39mNegative value passed! Please try again.\u001b[39m\u001b[39m\"\u001b[39m)\n",
      "\u001b[0;31mValueError\u001b[0m: math domain error",
      "\u001b[0mNegative value passed! Please try again."
     ]
    }
   ],
   "source": [
    "# Exception notes\n",
    "import math\n",
    "\n",
    "try:\n",
    "  math.sqrt(-1)\n",
    "except ValueError as e:\n",
    "  e.add_note(\"Negative value passed! Please try again.\")\n",
    "  raise"
   ]
  },
  {
   "cell_type": "code",
   "execution_count": 39,
   "metadata": {},
   "outputs": [],
   "source": [
    "# Self\n",
    "# Until now, the powerful typing module in Python had classes for virtually any data type, \n",
    "# except for classes that return instances of themselves. \n",
    "# In current versions of Python, the below example isn’t possible\n",
    "\n",
    "from typing import Self\n",
    "class Language:\n",
    "\n",
    "  def __init__(self, name, version, release_date):\n",
    "      self.name = name\n",
    "      self.version = version\n",
    "      self.release_date = release_date\n",
    "\n",
    "  def change_version(self, version) -> Self:\n",
    "      self.version = version\n",
    "\n",
    "      return Language(self.name, self.version, self.release_date)"
   ]
  },
  {
   "cell_type": "code",
   "execution_count": 40,
   "metadata": {},
   "outputs": [
    {
     "name": "stdout",
     "output_type": "stream",
     "text": [
      "{'python-version': '3.11.0', 'release_date': '2022-10-22'}\n",
      "3.11.0\n",
      "2022-10-22\n"
     ]
    }
   ],
   "source": [
    "# a new module named tomllib for parsing TOML documents - in standard library\n",
    "import tomllib\n",
    "\n",
    "toml_str = \"\"\"\n",
    "python-version = \"3.11.0\"\n",
    "release_date = \"2022-10-22\"\n",
    "\"\"\"\n",
    "\n",
    "data = tomllib.loads(toml_str)\n",
    "print(data)  # {'python-version': '3.11.0', 'release_date': '2022-10-22'}\n",
    "print(data['python-version'])  # 3.11.0\n",
    "print(data['release_date'])  # 2022-10-22"
   ]
  },
  {
   "cell_type": "markdown",
   "metadata": {},
   "source": [
    "## 3.12"
   ]
  },
  {
   "cell_type": "code",
   "execution_count": 41,
   "metadata": {},
   "outputs": [
    {
     "data": {
      "text/plain": [
       "'2'"
      ]
     },
     "execution_count": 41,
     "metadata": {},
     "output_type": "execute_result"
    }
   ],
   "source": [
    "# nested f strings\n",
    "f\"{f\"{f\"{f\"{f\"{f\"{1+1}\"}\"}\"}\"}\"}\""
   ]
  },
  {
   "cell_type": "code",
   "execution_count": 43,
   "metadata": {},
   "outputs": [
    {
     "name": "stdout",
     "output_type": "stream",
     "text": [
      "This is the playlist: song1\n",
      "song2\n"
     ]
    }
   ],
   "source": [
    "# nested double quotes issues fixed\n",
    "songs = ['song1', 'song2']\n",
    "print(f\"This is the playlist: {\"\\n\".join(songs)}\")"
   ]
  },
  {
   "cell_type": "code",
   "execution_count": 44,
   "metadata": {},
   "outputs": [
    {
     "data": {
      "text/plain": [
       "Point"
      ]
     },
     "execution_count": 44,
     "metadata": {},
     "output_type": "execute_result"
    }
   ],
   "source": [
    "# type alias types\n",
    "type Point = tuple[float, float]\n",
    "Point"
   ]
  },
  {
   "cell_type": "code",
   "execution_count": 45,
   "metadata": {},
   "outputs": [
    {
     "data": {
      "text/plain": [
       "(12.0, 10.0)"
      ]
     },
     "execution_count": 45,
     "metadata": {},
     "output_type": "execute_result"
    }
   ],
   "source": [
    "s: Point = (12.0, 10.0)\n",
    "s"
   ]
  },
  {
   "cell_type": "code",
   "execution_count": 46,
   "metadata": {},
   "outputs": [],
   "source": [
    "type Point[T] = tuple[T, T]  # Type aliases can also be generic:"
   ]
  },
  {
   "cell_type": "code",
   "execution_count": 47,
   "metadata": {},
   "outputs": [],
   "source": [
    "from typing import Callable, Hashable, Sequence\n",
    "\n",
    "type IntFunc[**P] = Callable[P, int]  # ParamSpec\n",
    "type LabeledTuple[*Ts] = tuple[str, *Ts]  # TypeVarTuple\n",
    "type HashableSequence[T: Hashable] = Sequence[T]  # TypeVar with bound\n",
    "type IntOrStrSequence[T: (int, str)] = Sequence[T]  # TypeVar with constraints"
   ]
  },
  {
   "cell_type": "code",
   "execution_count": 49,
   "metadata": {},
   "outputs": [],
   "source": [
    "from typing import Protocol\n",
    "\n",
    "# generic functions"
   ]
  },
  {
   "cell_type": "markdown",
   "metadata": {},
   "source": [
    "## Unknown"
   ]
  },
  {
   "cell_type": "code",
   "execution_count": 51,
   "metadata": {},
   "outputs": [
    {
     "data": {
      "text/plain": [
       "2"
      ]
     },
     "execution_count": 51,
     "metadata": {},
     "output_type": "execute_result"
    }
   ],
   "source": [
    "res = eval(\"1+1\")\n",
    "res"
   ]
  },
  {
   "cell_type": "code",
   "execution_count": 52,
   "metadata": {},
   "outputs": [],
   "source": [
    "exec(\"import sys as system\")"
   ]
  },
  {
   "cell_type": "code",
   "execution_count": 55,
   "metadata": {},
   "outputs": [
    {
     "data": {
      "text/plain": [
       "'3.12.0rc1+ (heads/3.12:7853c76, Aug 10 2023, 23:42:12) [GCC 9.4.0]'"
      ]
     },
     "execution_count": 55,
     "metadata": {},
     "output_type": "execute_result"
    }
   ],
   "source": [
    "system.version  # but here code linting is an issue. bcz in the code `system` is used as string to import"
   ]
  },
  {
   "cell_type": "code",
   "execution_count": 73,
   "metadata": {},
   "outputs": [
    {
     "data": {
      "text/plain": [
       "'3.12'"
      ]
     },
     "execution_count": 73,
     "metadata": {},
     "output_type": "execute_result"
    }
   ],
   "source": [
    "import importlib\n",
    "\n",
    "library_utilities = importlib.import_module('lib.utils')\n",
    "library_utilities.find_python_version()"
   ]
  },
  {
   "cell_type": "code",
   "execution_count": 74,
   "metadata": {},
   "outputs": [
    {
     "ename": "AttributeError",
     "evalue": "module 'lib.utils' has no attribute 'PATH'",
     "output_type": "error",
     "traceback": [
      "\u001b[0;31m---------------------------------------------------------------------------\u001b[0m",
      "\u001b[0;31mAttributeError\u001b[0m                            Traceback (most recent call last)",
      "Cell \u001b[0;32mIn[74], line 1\u001b[0m\n\u001b[0;32m----> 1\u001b[0m library_utilities\u001b[39m.\u001b[39;49mPATH\n",
      "\u001b[0;31mAttributeError\u001b[0m: module 'lib.utils' has no attribute 'PATH'"
     ]
    }
   ],
   "source": [
    "library_utilities.PATH"
   ]
  },
  {
   "cell_type": "code",
   "execution_count": 79,
   "metadata": {},
   "outputs": [
    {
     "data": {
      "text/plain": [
       "'He is the path'"
      ]
     },
     "execution_count": 79,
     "metadata": {},
     "output_type": "execute_result"
    }
   ],
   "source": [
    "library_utilities = importlib.reload(library_utilities)\n",
    "library_utilities.PATH"
   ]
  },
  {
   "cell_type": "code",
   "execution_count": 76,
   "metadata": {},
   "outputs": [
    {
     "data": {
      "text/plain": [
       "<module 'lib.utils' from '/home/ezetap/Documents/personal/works/python_features/lib/utils.py'>"
      ]
     },
     "execution_count": 76,
     "metadata": {},
     "output_type": "execute_result"
    }
   ],
   "source": [
    "library_utilities"
   ]
  },
  {
   "cell_type": "code",
   "execution_count": 59,
   "metadata": {},
   "outputs": [
    {
     "ename": "AttributeError",
     "evalue": "module 'importlib' has no attribute 'find_loader'",
     "output_type": "error",
     "traceback": [
      "\u001b[0;31m---------------------------------------------------------------------------\u001b[0m",
      "\u001b[0;31mAttributeError\u001b[0m                            Traceback (most recent call last)",
      "Cell \u001b[0;32mIn[59], line 4\u001b[0m\n\u001b[1;32m      1\u001b[0m \u001b[39mimport\u001b[39;00m \u001b[39mimportlib\u001b[39;00m\n\u001b[1;32m      3\u001b[0m module_name \u001b[39m=\u001b[39m \u001b[39m\"\u001b[39m\u001b[39mlib/utils\u001b[39m\u001b[39m\"\u001b[39m\n\u001b[0;32m----> 4\u001b[0m loader \u001b[39m=\u001b[39m importlib\u001b[39m.\u001b[39;49mfind_loader(module_name)\n\u001b[1;32m      6\u001b[0m \u001b[39mif\u001b[39;00m loader \u001b[39mis\u001b[39;00m \u001b[39mNone\u001b[39;00m:\n\u001b[1;32m      7\u001b[0m     \u001b[39mprint\u001b[39m(\u001b[39mf\u001b[39m\u001b[39m\"\u001b[39m\u001b[39mModule \u001b[39m\u001b[39m'\u001b[39m\u001b[39m{\u001b[39;00mmodule_name\u001b[39m}\u001b[39;00m\u001b[39m'\u001b[39m\u001b[39m not found\u001b[39m\u001b[39m\"\u001b[39m)\n",
      "\u001b[0;31mAttributeError\u001b[0m: module 'importlib' has no attribute 'find_loader'"
     ]
    }
   ],
   "source": [
    "import importlib\n",
    "\n",
    "module_name = \"lib/utils\"\n",
    "loader = importlib.find_loader(module_name)\n",
    "\n",
    "if loader is None:\n",
    "    print(f\"Module '{module_name}' not found\")\n",
    "else:\n",
    "    print(f\"Module '{module_name}' found\")\n",
    "    # Use the loader to load the module if needed\n",
    "    module = loader.load_module(module_name)\n",
    "\n",
    "dir(module)"
   ]
  },
  {
   "cell_type": "code",
   "execution_count": null,
   "metadata": {},
   "outputs": [],
   "source": []
  }
 ],
 "metadata": {
  "kernelspec": {
   "display_name": "python-features-kvlPUjsQ-py3.8",
   "language": "python",
   "name": "python3"
  },
  "language_info": {
   "codemirror_mode": {
    "name": "ipython",
    "version": 3
   },
   "file_extension": ".py",
   "mimetype": "text/x-python",
   "name": "python",
   "nbconvert_exporter": "python",
   "pygments_lexer": "ipython3",
   "version": "3.12.0rc1+"
  },
  "orig_nbformat": 4
 },
 "nbformat": 4,
 "nbformat_minor": 2
}
